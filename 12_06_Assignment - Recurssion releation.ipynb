{
 "cells": [
  {
   "cell_type": "code",
   "execution_count": 1,
   "id": "82abe9ef",
   "metadata": {},
   "outputs": [
    {
     "name": "stdout",
     "output_type": "stream",
     "text": [
      "T(2) = 105\n"
     ]
    }
   ],
   "source": [
    "#  Find the value of T(2) for the recurrence relation T(n) = 3T(n-1) + 12n, given that T(0)=5.\n",
    "\n",
    "def T(n):\n",
    "    if n == 0:\n",
    "        return 5\n",
    "    else:\n",
    "        return 3 * T(n - 1) + 12 * n\n",
    "\n",
    "result = T(2)\n",
    "print(\"T(2) =\", result)\n"
   ]
  },
  {
   "cell_type": "code",
   "execution_count": 2,
   "id": "65efe6ff",
   "metadata": {},
   "outputs": [
    {
     "name": "stdout",
     "output_type": "stream",
     "text": [
      "T_a(2) = 11\n"
     ]
    }
   ],
   "source": [
    "# 2. Given a recurrence relation, solve it using the substitution method:\n",
    "# a. T(n) = T(n-1) + c\n",
    "\n",
    "\n",
    "def T_a(n, c):\n",
    "    if n == 0:\n",
    "        return 5  \n",
    "    else:\n",
    "        return T_a(n - 1, c) + c\n",
    "\n",
    "# Example usage:\n",
    "result_a = T_a(2, 3)  \n",
    "print(\"T_a(2) =\", result_a)\n"
   ]
  },
  {
   "cell_type": "code",
   "execution_count": 3,
   "id": "53a6aff4",
   "metadata": {},
   "outputs": [
    {
     "name": "stdout",
     "output_type": "stream",
     "text": [
      "T_b(10) = 28\n"
     ]
    }
   ],
   "source": [
    "# b. T(n) = 2T(n/2) + n\n",
    "\n",
    "def T_b(n):\n",
    "    if n == 1:\n",
    "        return 0\n",
    "    else:\n",
    "        return 2 * T_b(n // 2) + n\n",
    "\n",
    "# Example usage:\n",
    "result_b = T_b(10)  \n",
    "print(\"T_b(10) =\", result_b)\n"
   ]
  },
  {
   "cell_type": "code",
   "execution_count": 4,
   "id": "d5b1da8d",
   "metadata": {},
   "outputs": [
    {
     "name": "stdout",
     "output_type": "stream",
     "text": [
      "T_c(10) = 35\n"
     ]
    }
   ],
   "source": [
    "# c. T(n) = 2T(n/2) + c\n",
    "\n",
    "def T_c(n, c):\n",
    "    if n == 1:\n",
    "        return 0\n",
    "    else:\n",
    "        return 2 * T_c(n // 2, c) + c\n",
    "\n",
    "# Example usage:\n",
    "result_c = T_c(10, 5)  \n",
    "print(\"T_c(10) =\", result_c)\n"
   ]
  },
  {
   "cell_type": "code",
   "execution_count": 5,
   "id": "9ce59791",
   "metadata": {},
   "outputs": [
    {
     "name": "stdout",
     "output_type": "stream",
     "text": [
      "T_d(10) = 9\n"
     ]
    }
   ],
   "source": [
    "# d. T(n) = T(n/2) + c\n",
    "\n",
    "def T_d(n, c):\n",
    "    if n == 1:\n",
    "        return 0\n",
    "    else:\n",
    "        return T_d(n // 2, c) + c\n",
    "\n",
    "# Example usage:\n",
    "result_d = T_d(10, 3)  \n",
    "print(\"T_d(10) =\", result_d)\n"
   ]
  },
  {
   "cell_type": "code",
   "execution_count": 6,
   "id": "d6b97204",
   "metadata": {},
   "outputs": [
    {
     "name": "stdout",
     "output_type": "stream",
     "text": [
      "T_a(5) = 63\n"
     ]
    }
   ],
   "source": [
    "# 3. Given a recurrence relation, solve it using the recursive tree approach:\n",
    "# a. T(n) = 2T(n-1) +1\n",
    "\n",
    "def T_a(n):\n",
    "    if n == 0:\n",
    "        return 1  # Base case\n",
    "    else:\n",
    "        return 2 * T_a(n - 1) + 1\n",
    "\n",
    "# Example usage:\n",
    "result_a = T_a(5) \n",
    "print(\"T_a(5) =\", result_a)\n"
   ]
  },
  {
   "cell_type": "code",
   "execution_count": 7,
   "id": "4dafc459",
   "metadata": {},
   "outputs": [
    {
     "name": "stdout",
     "output_type": "stream",
     "text": [
      "T_b(10) = 36\n"
     ]
    }
   ],
   "source": [
    "# b. T(n) = 2T(n/2) + n\n",
    "\n",
    "def T_b(n):\n",
    "    if n <= 1:\n",
    "        return n  # Base case\n",
    "    else:\n",
    "        return 2 * T_b(n // 2) + n\n",
    "\n",
    "# Example usage:\n",
    "result_b = T_b(10)  \n",
    "print(\"T_b(10) =\", result_b)\n"
   ]
  },
  {
   "cell_type": "code",
   "execution_count": null,
   "id": "f03c881f",
   "metadata": {},
   "outputs": [],
   "source": []
  }
 ],
 "metadata": {
  "kernelspec": {
   "display_name": "Python 3 (ipykernel)",
   "language": "python",
   "name": "python3"
  },
  "language_info": {
   "codemirror_mode": {
    "name": "ipython",
    "version": 3
   },
   "file_extension": ".py",
   "mimetype": "text/x-python",
   "name": "python",
   "nbconvert_exporter": "python",
   "pygments_lexer": "ipython3",
   "version": "3.11.5"
  }
 },
 "nbformat": 4,
 "nbformat_minor": 5
}
